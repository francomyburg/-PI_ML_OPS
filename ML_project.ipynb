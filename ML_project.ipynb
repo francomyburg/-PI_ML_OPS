{
 "cells": [
  {
   "cell_type": "code",
   "execution_count": 1,
   "metadata": {},
   "outputs": [],
   "source": [
    "import pandas as pd"
   ]
  },
  {
   "cell_type": "code",
   "execution_count": 2,
   "metadata": {},
   "outputs": [],
   "source": [
    "df=pd.read_parquet(\"datasetml/df_mlfinal.parquet\")"
   ]
  },
  {
   "cell_type": "code",
   "execution_count": 3,
   "metadata": {},
   "outputs": [
    {
     "data": {
      "text/html": [
       "<div>\n",
       "<style scoped>\n",
       "    .dataframe tbody tr th:only-of-type {\n",
       "        vertical-align: middle;\n",
       "    }\n",
       "\n",
       "    .dataframe tbody tr th {\n",
       "        vertical-align: top;\n",
       "    }\n",
       "\n",
       "    .dataframe thead th {\n",
       "        text-align: right;\n",
       "    }\n",
       "</style>\n",
       "<table border=\"1\" class=\"dataframe\">\n",
       "  <thead>\n",
       "    <tr style=\"text-align: right;\">\n",
       "      <th></th>\n",
       "      <th>title</th>\n",
       "      <th>id</th>\n",
       "      <th>userId</th>\n",
       "      <th>score</th>\n",
       "      <th>countUser</th>\n",
       "    </tr>\n",
       "  </thead>\n",
       "  <tbody>\n",
       "    <tr>\n",
       "      <th>0</th>\n",
       "      <td>the grand seduction</td>\n",
       "      <td>as1</td>\n",
       "      <td>2523</td>\n",
       "      <td>3.5</td>\n",
       "      <td>234</td>\n",
       "    </tr>\n",
       "    <tr>\n",
       "      <th>1</th>\n",
       "      <td>elon musk: the real life iron man</td>\n",
       "      <td>as15</td>\n",
       "      <td>2523</td>\n",
       "      <td>3.5</td>\n",
       "      <td>234</td>\n",
       "    </tr>\n",
       "    <tr>\n",
       "      <th>2</th>\n",
       "      <td>world war ii: saving the reality</td>\n",
       "      <td>as69</td>\n",
       "      <td>2523</td>\n",
       "      <td>4.0</td>\n",
       "      <td>234</td>\n",
       "    </tr>\n",
       "    <tr>\n",
       "      <th>3</th>\n",
       "      <td>ufotv presents the day before disclosure</td>\n",
       "      <td>as238</td>\n",
       "      <td>2523</td>\n",
       "      <td>4.0</td>\n",
       "      <td>234</td>\n",
       "    </tr>\n",
       "    <tr>\n",
       "      <th>4</th>\n",
       "      <td>the wedding night</td>\n",
       "      <td>as400</td>\n",
       "      <td>2523</td>\n",
       "      <td>4.5</td>\n",
       "      <td>234</td>\n",
       "    </tr>\n",
       "    <tr>\n",
       "      <th>...</th>\n",
       "      <td>...</td>\n",
       "      <td>...</td>\n",
       "      <td>...</td>\n",
       "      <td>...</td>\n",
       "      <td>...</td>\n",
       "    </tr>\n",
       "    <tr>\n",
       "      <th>2748513</th>\n",
       "      <td>kanika</td>\n",
       "      <td>ns7169</td>\n",
       "      <td>15556</td>\n",
       "      <td>3.0</td>\n",
       "      <td>56</td>\n",
       "    </tr>\n",
       "    <tr>\n",
       "      <th>2748514</th>\n",
       "      <td>ocean's twelve</td>\n",
       "      <td>ns7640</td>\n",
       "      <td>15556</td>\n",
       "      <td>3.5</td>\n",
       "      <td>56</td>\n",
       "    </tr>\n",
       "    <tr>\n",
       "      <th>2748515</th>\n",
       "      <td>superfly</td>\n",
       "      <td>ns8128</td>\n",
       "      <td>15556</td>\n",
       "      <td>1.0</td>\n",
       "      <td>56</td>\n",
       "    </tr>\n",
       "    <tr>\n",
       "      <th>2748516</th>\n",
       "      <td>the model</td>\n",
       "      <td>ns8426</td>\n",
       "      <td>15556</td>\n",
       "      <td>2.0</td>\n",
       "      <td>56</td>\n",
       "    </tr>\n",
       "    <tr>\n",
       "      <th>2748517</th>\n",
       "      <td>yes or no</td>\n",
       "      <td>ns8778</td>\n",
       "      <td>15556</td>\n",
       "      <td>2.5</td>\n",
       "      <td>56</td>\n",
       "    </tr>\n",
       "  </tbody>\n",
       "</table>\n",
       "<p>2328733 rows × 5 columns</p>\n",
       "</div>"
      ],
      "text/plain": [
       "                                            title      id  userId  score  \\\n",
       "0                             the grand seduction     as1    2523    3.5   \n",
       "1               elon musk: the real life iron man    as15    2523    3.5   \n",
       "2                world war ii: saving the reality    as69    2523    4.0   \n",
       "3        ufotv presents the day before disclosure   as238    2523    4.0   \n",
       "4                               the wedding night   as400    2523    4.5   \n",
       "...                                           ...     ...     ...    ...   \n",
       "2748513                                    kanika  ns7169   15556    3.0   \n",
       "2748514                            ocean's twelve  ns7640   15556    3.5   \n",
       "2748515                                  superfly  ns8128   15556    1.0   \n",
       "2748516                                 the model  ns8426   15556    2.0   \n",
       "2748517                                 yes or no  ns8778   15556    2.5   \n",
       "\n",
       "         countUser  \n",
       "0              234  \n",
       "1              234  \n",
       "2              234  \n",
       "3              234  \n",
       "4              234  \n",
       "...            ...  \n",
       "2748513         56  \n",
       "2748514         56  \n",
       "2748515         56  \n",
       "2748516         56  \n",
       "2748517         56  \n",
       "\n",
       "[2328733 rows x 5 columns]"
      ]
     },
     "execution_count": 3,
     "metadata": {},
     "output_type": "execute_result"
    }
   ],
   "source": [
    "df"
   ]
  },
  {
   "cell_type": "code",
   "execution_count": 4,
   "metadata": {},
   "outputs": [],
   "source": [
    "\n",
    "from surprise import Dataset\n",
    "from surprise import Reader"
   ]
  },
  {
   "cell_type": "code",
   "execution_count": 5,
   "metadata": {},
   "outputs": [],
   "source": [
    "reader = Reader(rating_scale=(1,5))\n",
    "data = Dataset.load_from_df(df[[\"userId\",\"id\",\"score\"]],reader=reader)"
   ]
  },
  {
   "cell_type": "code",
   "execution_count": 6,
   "metadata": {},
   "outputs": [],
   "source": [
    "from surprise import SVD,KNNBasic\n",
    "from surprise.model_selection import cross_validate\n"
   ]
  },
  {
   "cell_type": "code",
   "execution_count": 9,
   "metadata": {},
   "outputs": [],
   "source": [
    "#sim_options = {'name': 'cosine'}"
   ]
  },
  {
   "cell_type": "code",
   "execution_count": 19,
   "metadata": {},
   "outputs": [
    {
     "name": "stdout",
     "output_type": "stream",
     "text": [
      "Evaluating RMSE, MAE of algorithm SVD on 5 split(s).\n",
      "\n",
      "                  Fold 1  Fold 2  Fold 3  Fold 4  Fold 5  Mean    Std     \n",
      "RMSE (testset)    0.9426  0.9417  0.9407  0.9411  0.9410  0.9414  0.0007  \n",
      "MAE (testset)     0.7166  0.7155  0.7159  0.7158  0.7147  0.7157  0.0006  \n",
      "Fit time          21.42   21.34   22.64   22.41   20.27   21.62   0.85    \n",
      "Test time         4.13    3.96    3.75    3.66    3.68    3.84    0.18    \n"
     ]
    },
    {
     "data": {
      "text/plain": [
       "{'test_rmse': array([0.94263191, 0.94169544, 0.94073964, 0.94113804, 0.94101365]),\n",
       " 'test_mae': array([0.71656058, 0.71549708, 0.71586762, 0.71583853, 0.71474921]),\n",
       " 'fit_time': (21.420164823532104,\n",
       "  21.34011173248291,\n",
       "  22.64440608024597,\n",
       "  22.409905910491943,\n",
       "  20.27314043045044),\n",
       " 'test_time': (4.131307125091553,\n",
       "  3.961867570877075,\n",
       "  3.752971887588501,\n",
       "  3.661221742630005,\n",
       "  3.679173231124878)}"
      ]
     },
     "execution_count": 19,
     "metadata": {},
     "output_type": "execute_result"
    }
   ],
   "source": [
    "model=SVD()\n",
    "cross_validate(model, data, measures=['RMSE', 'MAE'], cv=5, verbose=True)"
   ]
  },
  {
   "cell_type": "code",
   "execution_count": 21,
   "metadata": {},
   "outputs": [],
   "source": [
    "mod_entrenado = data.build_full_trainset()"
   ]
  },
  {
   "cell_type": "code",
   "execution_count": 22,
   "metadata": {},
   "outputs": [
    {
     "data": {
      "text/plain": [
       "<surprise.trainset.Trainset at 0x7fa2cf3f0310>"
      ]
     },
     "execution_count": 22,
     "metadata": {},
     "output_type": "execute_result"
    }
   ],
   "source": [
    "mod_entrenado"
   ]
  },
  {
   "cell_type": "code",
   "execution_count": 23,
   "metadata": {},
   "outputs": [
    {
     "data": {
      "text/plain": [
       "<surprise.prediction_algorithms.matrix_factorization.SVD at 0x7fa2cf2adf60>"
      ]
     },
     "execution_count": 23,
     "metadata": {},
     "output_type": "execute_result"
    }
   ],
   "source": [
    "model.fit(mod_entrenado)"
   ]
  },
  {
   "cell_type": "code",
   "execution_count": 25,
   "metadata": {},
   "outputs": [],
   "source": [
    "def recomendacion(userid,movieid):\n",
    "    predicion=model.predict(userid,movieid)\n",
    "\n",
    "    if predicion.est >=3.5:\n",
    "        print(\"la pelicula te puede gustar\")\n",
    "    else:\n",
    "        print(\"la pelicula no te va a gustar\")\n"
   ]
  },
  {
   "cell_type": "code",
   "execution_count": 26,
   "metadata": {},
   "outputs": [
    {
     "name": "stdout",
     "output_type": "stream",
     "text": [
      "la pelicula te puede gustar\n"
     ]
    }
   ],
   "source": [
    "recomendacion(235,\"ns456\")"
   ]
  },
  {
   "cell_type": "code",
   "execution_count": 20,
   "metadata": {},
   "outputs": [],
   "source": [
    "\n",
    "import pickle"
   ]
  },
  {
   "cell_type": "code",
   "execution_count": 24,
   "metadata": {},
   "outputs": [],
   "source": [
    "with open('modelo.sav', 'wb') as f:\n",
    "    pickle.dump(model.fit(mod_entrenado), f)"
   ]
  },
  {
   "cell_type": "code",
   "execution_count": null,
   "metadata": {},
   "outputs": [],
   "source": [
    "https://huggingface.co/spaces/Francomyburg/appmovie1"
   ]
  }
 ],
 "metadata": {
  "kernelspec": {
   "display_name": "venv",
   "language": "python",
   "name": "python3"
  },
  "language_info": {
   "codemirror_mode": {
    "name": "ipython",
    "version": 3
   },
   "file_extension": ".py",
   "mimetype": "text/x-python",
   "name": "python",
   "nbconvert_exporter": "python",
   "pygments_lexer": "ipython3",
   "version": "3.10.6"
  },
  "orig_nbformat": 4
 },
 "nbformat": 4,
 "nbformat_minor": 2
}
