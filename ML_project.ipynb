{
 "cells": [
  {
   "cell_type": "code",
   "execution_count": 1,
   "metadata": {},
   "outputs": [],
   "source": [
    "import pandas as pd"
   ]
  },
  {
   "cell_type": "code",
   "execution_count": 2,
   "metadata": {},
   "outputs": [],
   "source": [
    "df=pd.read_parquet(\"datasetml/df_mlfinal.parquet\")"
   ]
  },
  {
   "cell_type": "code",
   "execution_count": 3,
   "metadata": {},
   "outputs": [
    {
     "data": {
      "text/html": [
       "<div>\n",
       "<style scoped>\n",
       "    .dataframe tbody tr th:only-of-type {\n",
       "        vertical-align: middle;\n",
       "    }\n",
       "\n",
       "    .dataframe tbody tr th {\n",
       "        vertical-align: top;\n",
       "    }\n",
       "\n",
       "    .dataframe thead th {\n",
       "        text-align: right;\n",
       "    }\n",
       "</style>\n",
       "<table border=\"1\" class=\"dataframe\">\n",
       "  <thead>\n",
       "    <tr style=\"text-align: right;\">\n",
       "      <th></th>\n",
       "      <th>title</th>\n",
       "      <th>id</th>\n",
       "      <th>userId</th>\n",
       "      <th>score</th>\n",
       "      <th>countUser</th>\n",
       "    </tr>\n",
       "  </thead>\n",
       "  <tbody>\n",
       "    <tr>\n",
       "      <th>0</th>\n",
       "      <td>the grand seduction</td>\n",
       "      <td>as1</td>\n",
       "      <td>2523</td>\n",
       "      <td>3.5</td>\n",
       "      <td>234</td>\n",
       "    </tr>\n",
       "    <tr>\n",
       "      <th>1</th>\n",
       "      <td>elon musk: the real life iron man</td>\n",
       "      <td>as15</td>\n",
       "      <td>2523</td>\n",
       "      <td>3.5</td>\n",
       "      <td>234</td>\n",
       "    </tr>\n",
       "    <tr>\n",
       "      <th>2</th>\n",
       "      <td>world war ii: saving the reality</td>\n",
       "      <td>as69</td>\n",
       "      <td>2523</td>\n",
       "      <td>4.0</td>\n",
       "      <td>234</td>\n",
       "    </tr>\n",
       "    <tr>\n",
       "      <th>3</th>\n",
       "      <td>ufotv presents the day before disclosure</td>\n",
       "      <td>as238</td>\n",
       "      <td>2523</td>\n",
       "      <td>4.0</td>\n",
       "      <td>234</td>\n",
       "    </tr>\n",
       "    <tr>\n",
       "      <th>4</th>\n",
       "      <td>the wedding night</td>\n",
       "      <td>as400</td>\n",
       "      <td>2523</td>\n",
       "      <td>4.5</td>\n",
       "      <td>234</td>\n",
       "    </tr>\n",
       "    <tr>\n",
       "      <th>...</th>\n",
       "      <td>...</td>\n",
       "      <td>...</td>\n",
       "      <td>...</td>\n",
       "      <td>...</td>\n",
       "      <td>...</td>\n",
       "    </tr>\n",
       "    <tr>\n",
       "      <th>2748513</th>\n",
       "      <td>kanika</td>\n",
       "      <td>ns7169</td>\n",
       "      <td>15556</td>\n",
       "      <td>3.0</td>\n",
       "      <td>56</td>\n",
       "    </tr>\n",
       "    <tr>\n",
       "      <th>2748514</th>\n",
       "      <td>ocean's twelve</td>\n",
       "      <td>ns7640</td>\n",
       "      <td>15556</td>\n",
       "      <td>3.5</td>\n",
       "      <td>56</td>\n",
       "    </tr>\n",
       "    <tr>\n",
       "      <th>2748515</th>\n",
       "      <td>superfly</td>\n",
       "      <td>ns8128</td>\n",
       "      <td>15556</td>\n",
       "      <td>1.0</td>\n",
       "      <td>56</td>\n",
       "    </tr>\n",
       "    <tr>\n",
       "      <th>2748516</th>\n",
       "      <td>the model</td>\n",
       "      <td>ns8426</td>\n",
       "      <td>15556</td>\n",
       "      <td>2.0</td>\n",
       "      <td>56</td>\n",
       "    </tr>\n",
       "    <tr>\n",
       "      <th>2748517</th>\n",
       "      <td>yes or no</td>\n",
       "      <td>ns8778</td>\n",
       "      <td>15556</td>\n",
       "      <td>2.5</td>\n",
       "      <td>56</td>\n",
       "    </tr>\n",
       "  </tbody>\n",
       "</table>\n",
       "<p>2328733 rows × 5 columns</p>\n",
       "</div>"
      ],
      "text/plain": [
       "                                            title      id  userId  score  \\\n",
       "0                             the grand seduction     as1    2523    3.5   \n",
       "1               elon musk: the real life iron man    as15    2523    3.5   \n",
       "2                world war ii: saving the reality    as69    2523    4.0   \n",
       "3        ufotv presents the day before disclosure   as238    2523    4.0   \n",
       "4                               the wedding night   as400    2523    4.5   \n",
       "...                                           ...     ...     ...    ...   \n",
       "2748513                                    kanika  ns7169   15556    3.0   \n",
       "2748514                            ocean's twelve  ns7640   15556    3.5   \n",
       "2748515                                  superfly  ns8128   15556    1.0   \n",
       "2748516                                 the model  ns8426   15556    2.0   \n",
       "2748517                                 yes or no  ns8778   15556    2.5   \n",
       "\n",
       "         countUser  \n",
       "0              234  \n",
       "1              234  \n",
       "2              234  \n",
       "3              234  \n",
       "4              234  \n",
       "...            ...  \n",
       "2748513         56  \n",
       "2748514         56  \n",
       "2748515         56  \n",
       "2748516         56  \n",
       "2748517         56  \n",
       "\n",
       "[2328733 rows x 5 columns]"
      ]
     },
     "execution_count": 3,
     "metadata": {},
     "output_type": "execute_result"
    }
   ],
   "source": [
    "df"
   ]
  },
  {
   "cell_type": "code",
   "execution_count": 4,
   "metadata": {},
   "outputs": [],
   "source": [
    "\n",
    "from surprise import Dataset\n",
    "from surprise import Reader"
   ]
  },
  {
   "cell_type": "code",
   "execution_count": 5,
   "metadata": {},
   "outputs": [],
   "source": [
    "reader = Reader(rating_scale=(1,5))\n",
    "data = Dataset.load_from_df(df[[\"userId\",\"id\",\"score\"]],reader=reader)"
   ]
  },
  {
   "cell_type": "code",
   "execution_count": 6,
   "metadata": {},
   "outputs": [],
   "source": [
    "from surprise import SVD,KNNBasic\n",
    "from surprise.model_selection import cross_validate\n"
   ]
  },
  {
   "cell_type": "code",
   "execution_count": 9,
   "metadata": {},
   "outputs": [],
   "source": [
    "#sim_options = {'name': 'cosine'}"
   ]
  },
  {
   "cell_type": "code",
   "execution_count": 7,
   "metadata": {},
   "outputs": [
    {
     "name": "stdout",
     "output_type": "stream",
     "text": [
      "Evaluating RMSE, MAE of algorithm SVD on 5 split(s).\n",
      "\n",
      "                  Fold 1  Fold 2  Fold 3  Fold 4  Fold 5  Mean    Std     \n",
      "RMSE (testset)    0.9411  0.9421  0.9417  0.9402  0.9424  0.9415  0.0008  \n",
      "MAE (testset)     0.7155  0.7157  0.7164  0.7146  0.7164  0.7157  0.0007  \n",
      "Fit time          21.42   21.38   21.71   21.06   21.30   21.37   0.21    \n",
      "Test time         3.49    3.22    3.51    3.50    3.53    3.45    0.12    \n"
     ]
    },
    {
     "data": {
      "text/plain": [
       "{'test_rmse': array([0.94106464, 0.9421323 , 0.94171866, 0.94018261, 0.94244221]),\n",
       " 'test_mae': array([0.7154832 , 0.71570022, 0.71636008, 0.71456696, 0.71636763]),\n",
       " 'fit_time': (21.424676179885864,\n",
       "  21.37716579437256,\n",
       "  21.711939096450806,\n",
       "  21.063746213912964,\n",
       "  21.296743392944336),\n",
       " 'test_time': (3.4900951385498047,\n",
       "  3.2216732501983643,\n",
       "  3.509159564971924,\n",
       "  3.496400833129883,\n",
       "  3.5343708992004395)}"
      ]
     },
     "execution_count": 7,
     "metadata": {},
     "output_type": "execute_result"
    }
   ],
   "source": [
    "model=SVD()\n",
    "cross_validate(model, data, measures=['RMSE', 'MAE'], cv=5, verbose=True)"
   ]
  },
  {
   "cell_type": "code",
   "execution_count": 8,
   "metadata": {},
   "outputs": [],
   "source": [
    "mod_entrenado = data.build_full_trainset()"
   ]
  },
  {
   "cell_type": "code",
   "execution_count": 9,
   "metadata": {},
   "outputs": [
    {
     "data": {
      "text/plain": [
       "<surprise.trainset.Trainset at 0x7f63115e3490>"
      ]
     },
     "execution_count": 9,
     "metadata": {},
     "output_type": "execute_result"
    }
   ],
   "source": [
    "mod_entrenado"
   ]
  },
  {
   "cell_type": "code",
   "execution_count": 13,
   "metadata": {},
   "outputs": [
    {
     "name": "stdout",
     "output_type": "stream",
     "text": [
      "Computing the msd similarity matrix...\n",
      "Done computing similarity matrix.\n"
     ]
    },
    {
     "data": {
      "text/plain": [
       "<surprise.prediction_algorithms.knns.KNNBasic at 0x7f06e2212c80>"
      ]
     },
     "execution_count": 13,
     "metadata": {},
     "output_type": "execute_result"
    }
   ],
   "source": [
    "model.fit(mod_entrenado)"
   ]
  },
  {
   "cell_type": "code",
   "execution_count": 10,
   "metadata": {},
   "outputs": [],
   "source": [
    "def recomendacion(userid,movieid):\n",
    "    predicion=model.predict(userid,movieid)\n",
    "\n",
    "    if predicion.est >=3.5:\n",
    "        print(\"la pelicula te puede gustar\")\n",
    "    else:\n",
    "        print(\"la pelicula no te va a gustar\")\n"
   ]
  },
  {
   "cell_type": "code",
   "execution_count": 13,
   "metadata": {},
   "outputs": [
    {
     "name": "stdout",
     "output_type": "stream",
     "text": [
      "la pelicula te puede gustar\n"
     ]
    }
   ],
   "source": [
    "recomendacion(235,\"ns456\")"
   ]
  }
 ],
 "metadata": {
  "kernelspec": {
   "display_name": "venv",
   "language": "python",
   "name": "python3"
  },
  "language_info": {
   "codemirror_mode": {
    "name": "ipython",
    "version": 3
   },
   "file_extension": ".py",
   "mimetype": "text/x-python",
   "name": "python",
   "nbconvert_exporter": "python",
   "pygments_lexer": "ipython3",
   "version": "3.10.6"
  },
  "orig_nbformat": 4
 },
 "nbformat": 4,
 "nbformat_minor": 2
}
